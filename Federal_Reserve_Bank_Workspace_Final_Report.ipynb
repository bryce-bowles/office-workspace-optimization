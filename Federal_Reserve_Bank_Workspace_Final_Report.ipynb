{
 "cells": [
  {
   "cell_type": "markdown",
   "metadata": {},
   "source": [
    "# Federal_Reserve_Bank_Workspace_Final_Report\n",
    "Virginia Commonwealth University\n",
    "\n",
    "Faitha Schrader and Bryce Bowles\n",
    "\n",
    "Spring 2020\n",
    "\n"
   ]
  },
  {
   "cell_type": "markdown",
   "metadata": {},
   "source": [
    "Read data."
   ]
  },
  {
   "cell_type": "code",
   "execution_count": 1,
   "metadata": {},
   "outputs": [
    {
     "name": "stdout",
     "output_type": "stream",
     "text": [
      "{1: 1, 2: 1, 3: 1, 4: 1, 5: 1, 6: 1, 7: 1, 8: 1, 9: 1, 10: 1, 11: 1, 12: 1, 13: 1, 14: 1, 15: 1, 16: 1, 17: 1, 18: 1, 19: 1, 20: 1, 'ACO': -1, 'A2W1': -1, 'A3W': -1, 'AEC': -7, 'AIC': -7, 'A2W2': -6, 'BCO': -1, 'B2W1': -1, 'B3W': -1, 'BEC': -6, 'BIC': -6, 'BIO1': -1, 'BIO2': -1, 'B2W2': -1}\n"
     ]
    }
   ],
   "source": [
    "import pandas as pd\n",
    "\n",
    "move_data = pd.read_excel(\"Fed_Res_w20o14.xlsx\",\n",
    "                       sheet_name=\"Moves\",\n",
    "                          index_col=0)\n",
    "S = list(move_data)\n",
    "W = list(move_data.index)\n",
    "m = move_data.stack().to_dict()\n",
    "A = list(m.keys())\n",
    "V = W+S\n",
    "\n",
    "distance_data = pd.read_excel(\"Fed_Res_w20o14.xlsx\",\n",
    "                       sheet_name=\"Distance\",\n",
    "                          index_col=0)\n",
    "d = distance_data.stack().to_dict()\n",
    "D = list(d.keys())\n",
    "\n",
    "worker_data = pd.read_excel(\"Fed_Res_w20o14.xlsx\",\n",
    "                       sheet_name=\"Worker\",\n",
    "                          index_col=0)\n",
    "rank_worker = dict(zip(move_data.index, worker_data.Rank))\n",
    "team_worker = dict(zip(move_data.index, worker_data.Team))\n",
    "space_data = pd.read_excel(\"Fed_Res_w20o14.xlsx\",\n",
    "                       sheet_name=\"Space\",\n",
    "                          index_col=0)\n",
    "rank_space = dict(zip(move_data, space_data.Rank))\n",
    "\n",
    "capacity = {'ACO':-1, 'A2W1':-1, 'A3W': -1, 'AEC': -7, 'AIC': -7, 'A2W2': -6, 'BCO': -1, 'B2W1':-1,'B3W':-1,'BEC':-6,'BIC':-6,'BIO1':-1,'BIO2':-1,'B2W2':-1}\n",
    "\n",
    "b = dict(zip(W, [1]*len(W)))\n",
    "b.update(capacity)\n",
    "\n",
    "print(b)\n",
    "\n",
    "def mybounds(model, i,j):\n",
    "    return (0.0, 1.0)\n",
    "def mybounds2(model, i,j,k,l):\n",
    "    return (0.0, 1.0)\n"
   ]
  },
  {
   "cell_type": "markdown",
   "metadata": {},
   "source": [
    "Import Pyomo and define model."
   ]
  },
  {
   "cell_type": "code",
   "execution_count": 2,
   "metadata": {},
   "outputs": [],
   "source": [
    "from pyomo.environ import *\n",
    "model = ConcreteModel()"
   ]
  },
  {
   "cell_type": "markdown",
   "metadata": {},
   "source": [
    "Let $x_{ij}$ be the flow on arc $(i,j)$ for $(i,j) \\in A$."
   ]
  },
  {
   "cell_type": "code",
   "execution_count": 3,
   "metadata": {},
   "outputs": [
    {
     "name": "stdout",
     "output_type": "stream",
     "text": [
      "Defining variables for the first time\n"
     ]
    }
   ],
   "source": [
    "try:\n",
    "    model.del_component(model.x)\n",
    "    model.del_component(model.x_index)\n",
    "    model.del_component(model.x_index_0)\n",
    "    model.del_component(model.x_index_1)\n",
    "except:\n",
    "    print(\"Defining variables for the first time\")\n",
    "model.x = Var(A, domain=Binary, bounds=mybounds)"
   ]
  },
  {
   "cell_type": "code",
   "execution_count": 4,
   "metadata": {},
   "outputs": [
    {
     "name": "stdout",
     "output_type": "stream",
     "text": [
      "Defining variables for first time\n"
     ]
    }
   ],
   "source": [
    "try: \n",
    "    model.del_component(model.y)\n",
    "    model.del_component(model.y_index)\n",
    "    model.del_component(model.y_index_0)\n",
    "    model.del_component(model.y_index_1)\n",
    "except:\n",
    "    print(\"Defining variables for first time\")\n",
    "model.y = Var(A,A, domain=Binary, bounds=mybounds2)"
   ]
  },
  {
   "cell_type": "code",
   "execution_count": null,
   "metadata": {},
   "outputs": [],
   "source": []
  },
  {
   "cell_type": "code",
   "execution_count": 5,
   "metadata": {},
   "outputs": [
    {
     "name": "stdout",
     "output_type": "stream",
     "text": [
      "Defining objective for the first time\n"
     ]
    }
   ],
   "source": [
    "try:\n",
    "    model.del_component(model.Moves_Distance)\n",
    "except:\n",
    "    print(\"Defining objective for the first time\")\n",
    "model.Moves_Distance = Objective(expr=sum(m[i,j]*model.x[i,j] for (i,j) in A)+sum(sum(sum(sum(d[j,l] * model.y[i,j,k,l] for i in W) for j in S) for k in W) for l in S), sense=minimize)"
   ]
  },
  {
   "cell_type": "markdown",
   "metadata": {},
   "source": [
    "Flow Balance constraints:\n",
    "\n",
    "$$\n",
    "\\sum_{j \\in V: (i,j) \\in A} x_{ij} - \\sum_{j \\in V: (j,i) \\in A} x_{ji} = b_i, i \\in V \\mbox{ Flow Balance}\n",
    "$$"
   ]
  },
  {
   "cell_type": "code",
   "execution_count": 6,
   "metadata": {
    "scrolled": true
   },
   "outputs": [
    {
     "name": "stdout",
     "output_type": "stream",
     "text": [
      "Defining constraints for the first time\n"
     ]
    }
   ],
   "source": [
    "try:\n",
    "    model.del_component(model.FlowBalance)\n",
    "    model.del_component(model.FlowBalance_index)\n",
    "except:\n",
    "    print(\"Defining constraints for the first time\")\n",
    "    \n",
    "model.FlowBalance = ConstraintList()\n",
    "for i in V:\n",
    "    if i in W:\n",
    "        model.FlowBalance.add(sum(model.x[i,j] for j in V if (i,j) in A) - sum(model.x[j,i] for j in V if (j,i) in A) == b[i])\n",
    "    else:\n",
    "        model.FlowBalance.add(sum(model.x[i,j] for j in V if (i,j) in A) - sum(model.x[j,i] for j in V if (j,i) in A) >= b[i])\n"
   ]
  },
  {
   "cell_type": "code",
   "execution_count": 7,
   "metadata": {},
   "outputs": [
    {
     "name": "stdout",
     "output_type": "stream",
     "text": [
      "Defining constraints for the first time\n"
     ]
    }
   ],
   "source": [
    "try:\n",
    "    model.del_component(model.Flip_on)\n",
    "    model.del_component(model.Flip_on_index)\n",
    "except:\n",
    "    print(\"Defining constraints for the first time\")\n",
    "    \n",
    "model.Flip_on = ConstraintList()\n",
    "for i in W:\n",
    "    for j in S:\n",
    "        for k in W:\n",
    "            for l in S:\n",
    "                if team_worker[i] == team_worker[k]: model.Flip_on.add(model.x[i,j] + model.x [k,l] <= model.y[i,j,k,l] + 1)\n",
    "                else: model.Flip_on.add(model.y[i,j,k,l] == 0)"
   ]
  },
  {
   "cell_type": "code",
   "execution_count": 8,
   "metadata": {},
   "outputs": [
    {
     "name": "stdout",
     "output_type": "stream",
     "text": [
      "Defining constraints for the first time\n"
     ]
    }
   ],
   "source": [
    "try:\n",
    "    model.del_component(model.RankConstraint)\n",
    "    model.del_component(model.RankConstraint_index)\n",
    "except:\n",
    "    print(\"Defining constraints for the first time\")\n",
    "    \n",
    "model.RankConstraint = ConstraintList()\n",
    "for i in W:\n",
    "    for j in S:\n",
    "        if rank_worker[i] != rank_space [j]: model.RankConstraint.add(model.x[i,j] ==0)"
   ]
  },
  {
   "cell_type": "markdown",
   "metadata": {},
   "source": [
    "Specify solver and solve."
   ]
  },
  {
   "cell_type": "code",
   "execution_count": 9,
   "metadata": {},
   "outputs": [],
   "source": [
    "solver = SolverFactory(\"glpk\")\n",
    "status = solver.solve(model)"
   ]
  },
  {
   "cell_type": "code",
   "execution_count": 10,
   "metadata": {},
   "outputs": [
    {
     "name": "stdout",
     "output_type": "stream",
     "text": [
      "Status = \n",
      "Problem: \n",
      "- Name: unknown\n",
      "  Lower bound: 1240.0\n",
      "  Upper bound: 1240.0\n",
      "  Number of objectives: 1\n",
      "  Number of constraints: 78663\n",
      "  Number of variables: 78681\n",
      "  Number of nonzeros: 138493\n",
      "  Sense: minimize\n",
      "Solver: \n",
      "- Status: ok\n",
      "  Termination condition: optimal\n",
      "  Statistics: \n",
      "    Branch and bound: \n",
      "      Number of bounded subproblems: 131\n",
      "      Number of created subproblems: 131\n",
      "  Error rc: 0\n",
      "  Time: 0.8706469535827637\n",
      "Solution: \n",
      "- number of solutions: 0\n",
      "  number of solutions displayed: 0\n",
      "\n"
     ]
    }
   ],
   "source": [
    "print(\"Status = %s\" % status)"
   ]
  },
  {
   "cell_type": "code",
   "execution_count": 11,
   "metadata": {
    "scrolled": true
   },
   "outputs": [
    {
     "name": "stdout",
     "output_type": "stream",
     "text": [
      "x[1,ACO] = 0.000000\n",
      "x[1,A2W1] = 0.000000\n",
      "x[1,A3W] = 0.000000\n",
      "x[1,AEC] = 0.000000\n",
      "x[1,AIC] = 0.000000\n",
      "x[1,A2W2] = 0.000000\n",
      "x[1,BCO] = 0.000000\n",
      "x[1,B2W1] = 0.000000\n",
      "x[1,B3W] = 1.000000\n",
      "x[1,BEC] = 0.000000\n",
      "x[1,BIC] = 0.000000\n",
      "x[1,BIO1] = 0.000000\n",
      "x[1,BIO2] = 0.000000\n",
      "x[1,B2W2] = 0.000000\n",
      "x[2,ACO] = 0.000000\n",
      "x[2,A2W1] = 0.000000\n",
      "x[2,A3W] = 0.000000\n",
      "x[2,AEC] = 0.000000\n",
      "x[2,AIC] = 0.000000\n",
      "x[2,A2W2] = 0.000000\n",
      "x[2,BCO] = 0.000000\n",
      "x[2,B2W1] = 0.000000\n",
      "x[2,B3W] = 0.000000\n",
      "x[2,BEC] = 1.000000\n",
      "x[2,BIC] = 0.000000\n",
      "x[2,BIO1] = 0.000000\n",
      "x[2,BIO2] = 0.000000\n",
      "x[2,B2W2] = 0.000000\n",
      "x[3,ACO] = 0.000000\n",
      "x[3,A2W1] = 0.000000\n",
      "x[3,A3W] = 0.000000\n",
      "x[3,AEC] = 0.000000\n",
      "x[3,AIC] = 0.000000\n",
      "x[3,A2W2] = 0.000000\n",
      "x[3,BCO] = 0.000000\n",
      "x[3,B2W1] = 0.000000\n",
      "x[3,B3W] = 0.000000\n",
      "x[3,BEC] = 1.000000\n",
      "x[3,BIC] = 0.000000\n",
      "x[3,BIO1] = 0.000000\n",
      "x[3,BIO2] = 0.000000\n",
      "x[3,B2W2] = 0.000000\n",
      "x[4,ACO] = 0.000000\n",
      "x[4,A2W1] = 0.000000\n",
      "x[4,A3W] = 0.000000\n",
      "x[4,AEC] = 0.000000\n",
      "x[4,AIC] = 0.000000\n",
      "x[4,A2W2] = 0.000000\n",
      "x[4,BCO] = 0.000000\n",
      "x[4,B2W1] = 0.000000\n",
      "x[4,B3W] = 0.000000\n",
      "x[4,BEC] = 0.000000\n",
      "x[4,BIC] = 1.000000\n",
      "x[4,BIO1] = 0.000000\n",
      "x[4,BIO2] = 0.000000\n",
      "x[4,B2W2] = 0.000000\n",
      "x[5,ACO] = 0.000000\n",
      "x[5,A2W1] = 0.000000\n",
      "x[5,A3W] = 0.000000\n",
      "x[5,AEC] = 0.000000\n",
      "x[5,AIC] = 0.000000\n",
      "x[5,A2W2] = 0.000000\n",
      "x[5,BCO] = 0.000000\n",
      "x[5,B2W1] = 0.000000\n",
      "x[5,B3W] = 0.000000\n",
      "x[5,BEC] = 0.000000\n",
      "x[5,BIC] = 0.000000\n",
      "x[5,BIO1] = 1.000000\n",
      "x[5,BIO2] = 0.000000\n",
      "x[5,B2W2] = 0.000000\n",
      "x[6,ACO] = 0.000000\n",
      "x[6,A2W1] = 0.000000\n",
      "x[6,A3W] = 0.000000\n",
      "x[6,AEC] = 0.000000\n",
      "x[6,AIC] = 0.000000\n",
      "x[6,A2W2] = 0.000000\n",
      "x[6,BCO] = 0.000000\n",
      "x[6,B2W1] = 0.000000\n",
      "x[6,B3W] = 0.000000\n",
      "x[6,BEC] = 1.000000\n",
      "x[6,BIC] = 0.000000\n",
      "x[6,BIO1] = 0.000000\n",
      "x[6,BIO2] = 0.000000\n",
      "x[6,B2W2] = 0.000000\n",
      "x[7,ACO] = 0.000000\n",
      "x[7,A2W1] = 0.000000\n",
      "x[7,A3W] = 0.000000\n",
      "x[7,AEC] = 0.000000\n",
      "x[7,AIC] = 0.000000\n",
      "x[7,A2W2] = 0.000000\n",
      "x[7,BCO] = 0.000000\n",
      "x[7,B2W1] = 0.000000\n",
      "x[7,B3W] = 0.000000\n",
      "x[7,BEC] = 1.000000\n",
      "x[7,BIC] = 0.000000\n",
      "x[7,BIO1] = 0.000000\n",
      "x[7,BIO2] = 0.000000\n",
      "x[7,B2W2] = 0.000000\n",
      "x[8,ACO] = 0.000000\n",
      "x[8,A2W1] = 0.000000\n",
      "x[8,A3W] = 0.000000\n",
      "x[8,AEC] = 0.000000\n",
      "x[8,AIC] = 0.000000\n",
      "x[8,A2W2] = 0.000000\n",
      "x[8,BCO] = 0.000000\n",
      "x[8,B2W1] = 0.000000\n",
      "x[8,B3W] = 0.000000\n",
      "x[8,BEC] = 0.000000\n",
      "x[8,BIC] = 1.000000\n",
      "x[8,BIO1] = 0.000000\n",
      "x[8,BIO2] = 0.000000\n",
      "x[8,B2W2] = 0.000000\n",
      "x[9,ACO] = 0.000000\n",
      "x[9,A2W1] = 0.000000\n",
      "x[9,A3W] = 0.000000\n",
      "x[9,AEC] = 0.000000\n",
      "x[9,AIC] = 0.000000\n",
      "x[9,A2W2] = 0.000000\n",
      "x[9,BCO] = 0.000000\n",
      "x[9,B2W1] = 0.000000\n",
      "x[9,B3W] = 0.000000\n",
      "x[9,BEC] = 1.000000\n",
      "x[9,BIC] = 0.000000\n",
      "x[9,BIO1] = 0.000000\n",
      "x[9,BIO2] = 0.000000\n",
      "x[9,B2W2] = 0.000000\n",
      "x[10,ACO] = 0.000000\n",
      "x[10,A2W1] = 0.000000\n",
      "x[10,A3W] = 0.000000\n",
      "x[10,AEC] = 0.000000\n",
      "x[10,AIC] = 0.000000\n",
      "x[10,A2W2] = 0.000000\n",
      "x[10,BCO] = 0.000000\n",
      "x[10,B2W1] = 0.000000\n",
      "x[10,B3W] = 0.000000\n",
      "x[10,BEC] = 0.000000\n",
      "x[10,BIC] = 1.000000\n",
      "x[10,BIO1] = 0.000000\n",
      "x[10,BIO2] = 0.000000\n",
      "x[10,B2W2] = 0.000000\n",
      "x[11,ACO] = 0.000000\n",
      "x[11,A2W1] = 0.000000\n",
      "x[11,A3W] = 1.000000\n",
      "x[11,AEC] = 0.000000\n",
      "x[11,AIC] = 0.000000\n",
      "x[11,A2W2] = 0.000000\n",
      "x[11,BCO] = 0.000000\n",
      "x[11,B2W1] = 0.000000\n",
      "x[11,B3W] = 0.000000\n",
      "x[11,BEC] = 0.000000\n",
      "x[11,BIC] = 0.000000\n",
      "x[11,BIO1] = 0.000000\n",
      "x[11,BIO2] = 0.000000\n",
      "x[11,B2W2] = 0.000000\n",
      "x[12,ACO] = 0.000000\n",
      "x[12,A2W1] = 0.000000\n",
      "x[12,A3W] = 0.000000\n",
      "x[12,AEC] = 1.000000\n",
      "x[12,AIC] = 0.000000\n",
      "x[12,A2W2] = 0.000000\n",
      "x[12,BCO] = 0.000000\n",
      "x[12,B2W1] = 0.000000\n",
      "x[12,B3W] = 0.000000\n",
      "x[12,BEC] = 0.000000\n",
      "x[12,BIC] = 0.000000\n",
      "x[12,BIO1] = 0.000000\n",
      "x[12,BIO2] = 0.000000\n",
      "x[12,B2W2] = 0.000000\n",
      "x[13,ACO] = 0.000000\n",
      "x[13,A2W1] = 0.000000\n",
      "x[13,A3W] = 0.000000\n",
      "x[13,AEC] = 0.000000\n",
      "x[13,AIC] = 1.000000\n",
      "x[13,A2W2] = 0.000000\n",
      "x[13,BCO] = 0.000000\n",
      "x[13,B2W1] = 0.000000\n",
      "x[13,B3W] = 0.000000\n",
      "x[13,BEC] = 0.000000\n",
      "x[13,BIC] = 0.000000\n",
      "x[13,BIO1] = 0.000000\n",
      "x[13,BIO2] = 0.000000\n",
      "x[13,B2W2] = 0.000000\n",
      "x[14,ACO] = 0.000000\n",
      "x[14,A2W1] = 0.000000\n",
      "x[14,A3W] = 0.000000\n",
      "x[14,AEC] = 1.000000\n",
      "x[14,AIC] = 0.000000\n",
      "x[14,A2W2] = 0.000000\n",
      "x[14,BCO] = 0.000000\n",
      "x[14,B2W1] = 0.000000\n",
      "x[14,B3W] = 0.000000\n",
      "x[14,BEC] = 0.000000\n",
      "x[14,BIC] = 0.000000\n",
      "x[14,BIO1] = 0.000000\n",
      "x[14,BIO2] = 0.000000\n",
      "x[14,B2W2] = 0.000000\n",
      "x[15,ACO] = 0.000000\n",
      "x[15,A2W1] = 0.000000\n",
      "x[15,A3W] = 0.000000\n",
      "x[15,AEC] = 0.000000\n",
      "x[15,AIC] = 1.000000\n",
      "x[15,A2W2] = 0.000000\n",
      "x[15,BCO] = 0.000000\n",
      "x[15,B2W1] = 0.000000\n",
      "x[15,B3W] = 0.000000\n",
      "x[15,BEC] = 0.000000\n",
      "x[15,BIC] = 0.000000\n",
      "x[15,BIO1] = 0.000000\n",
      "x[15,BIO2] = 0.000000\n",
      "x[15,B2W2] = 0.000000\n",
      "x[16,ACO] = 0.000000\n",
      "x[16,A2W1] = 0.000000\n",
      "x[16,A3W] = 0.000000\n",
      "x[16,AEC] = 1.000000\n",
      "x[16,AIC] = 0.000000\n",
      "x[16,A2W2] = 0.000000\n",
      "x[16,BCO] = 0.000000\n",
      "x[16,B2W1] = 0.000000\n",
      "x[16,B3W] = 0.000000\n",
      "x[16,BEC] = 0.000000\n",
      "x[16,BIC] = 0.000000\n",
      "x[16,BIO1] = 0.000000\n",
      "x[16,BIO2] = 0.000000\n",
      "x[16,B2W2] = 0.000000\n",
      "x[17,ACO] = 0.000000\n",
      "x[17,A2W1] = 0.000000\n",
      "x[17,A3W] = 0.000000\n",
      "x[17,AEC] = 1.000000\n",
      "x[17,AIC] = 0.000000\n",
      "x[17,A2W2] = 0.000000\n",
      "x[17,BCO] = 0.000000\n",
      "x[17,B2W1] = 0.000000\n",
      "x[17,B3W] = 0.000000\n",
      "x[17,BEC] = 0.000000\n",
      "x[17,BIC] = 0.000000\n",
      "x[17,BIO1] = 0.000000\n",
      "x[17,BIO2] = 0.000000\n",
      "x[17,B2W2] = 0.000000\n",
      "x[18,ACO] = 0.000000\n",
      "x[18,A2W1] = 0.000000\n",
      "x[18,A3W] = 0.000000\n",
      "x[18,AEC] = 1.000000\n",
      "x[18,AIC] = 0.000000\n",
      "x[18,A2W2] = 0.000000\n",
      "x[18,BCO] = 0.000000\n",
      "x[18,B2W1] = 0.000000\n",
      "x[18,B3W] = 0.000000\n",
      "x[18,BEC] = 0.000000\n",
      "x[18,BIC] = 0.000000\n",
      "x[18,BIO1] = 0.000000\n",
      "x[18,BIO2] = 0.000000\n",
      "x[18,B2W2] = 0.000000\n",
      "x[19,ACO] = 0.000000\n",
      "x[19,A2W1] = 0.000000\n",
      "x[19,A3W] = 0.000000\n",
      "x[19,AEC] = 0.000000\n",
      "x[19,AIC] = 1.000000\n",
      "x[19,A2W2] = 0.000000\n",
      "x[19,BCO] = 0.000000\n",
      "x[19,B2W1] = 0.000000\n",
      "x[19,B3W] = 0.000000\n",
      "x[19,BEC] = 0.000000\n",
      "x[19,BIC] = 0.000000\n",
      "x[19,BIO1] = 0.000000\n",
      "x[19,BIO2] = 0.000000\n",
      "x[19,B2W2] = 0.000000\n",
      "x[20,ACO] = 0.000000\n",
      "x[20,A2W1] = 0.000000\n",
      "x[20,A3W] = 0.000000\n",
      "x[20,AEC] = 1.000000\n",
      "x[20,AIC] = 0.000000\n",
      "x[20,A2W2] = 0.000000\n",
      "x[20,BCO] = 0.000000\n",
      "x[20,B2W1] = 0.000000\n",
      "x[20,B3W] = 0.000000\n",
      "x[20,BEC] = 0.000000\n",
      "x[20,BIC] = 0.000000\n",
      "x[20,BIO1] = 0.000000\n",
      "x[20,BIO2] = 0.000000\n",
      "x[20,B2W2] = 0.000000\n",
      "Moves_Distance = 1240.000000\n",
      "total_moves = 10\n",
      "total_distance = 1230 ft.\n"
     ]
    },
    {
     "ename": "TypeError",
     "evalue": "int() argument must be a string, a bytes-like object or a number, not 'generator'",
     "output_type": "error",
     "traceback": [
      "\u001b[1;31m---------------------------------------------------------------------------\u001b[0m",
      "\u001b[1;31mTypeError\u001b[0m                                 Traceback (most recent call last)",
      "\u001b[1;32m<ipython-input-11-ade1d3fcf410>\u001b[0m in \u001b[0;36m<module>\u001b[1;34m\u001b[0m\n\u001b[0;32m      7\u001b[0m \u001b[0mprint\u001b[0m\u001b[1;33m(\u001b[0m\u001b[1;34m\"total_moves = %i\"\u001b[0m \u001b[1;33m%\u001b[0m \u001b[0mtotal_moves\u001b[0m\u001b[1;33m)\u001b[0m\u001b[1;33m\u001b[0m\u001b[1;33m\u001b[0m\u001b[0m\n\u001b[0;32m      8\u001b[0m \u001b[0mprint\u001b[0m\u001b[1;33m(\u001b[0m\u001b[1;34m\"total_distance = %i ft.\"\u001b[0m \u001b[1;33m%\u001b[0m \u001b[0mtotal_distance\u001b[0m\u001b[1;33m)\u001b[0m\u001b[1;33m\u001b[0m\u001b[1;33m\u001b[0m\u001b[0m\n\u001b[1;32m----> 9\u001b[1;33m \u001b[0mteam_distance\u001b[0m \u001b[1;33m=\u001b[0m \u001b[0mint\u001b[0m\u001b[1;33m(\u001b[0m\u001b[1;33m(\u001b[0m\u001b[0msum\u001b[0m\u001b[1;33m(\u001b[0m\u001b[0md\u001b[0m\u001b[1;33m[\u001b[0m\u001b[0mj\u001b[0m\u001b[1;33m,\u001b[0m\u001b[0ml\u001b[0m\u001b[1;33m]\u001b[0m \u001b[1;33m*\u001b[0m \u001b[0mvalue\u001b[0m\u001b[1;33m(\u001b[0m\u001b[0mmodel\u001b[0m\u001b[1;33m.\u001b[0m\u001b[0my\u001b[0m\u001b[1;33m[\u001b[0m\u001b[0mi\u001b[0m\u001b[1;33m,\u001b[0m\u001b[0mj\u001b[0m\u001b[1;33m,\u001b[0m\u001b[0mk\u001b[0m\u001b[1;33m,\u001b[0m\u001b[0ml\u001b[0m\u001b[1;33m]\u001b[0m \u001b[1;32mfor\u001b[0m \u001b[0mi\u001b[0m \u001b[1;32min\u001b[0m \u001b[0mW\u001b[0m\u001b[1;33m)\u001b[0m \u001b[1;32mfor\u001b[0m \u001b[0mj\u001b[0m \u001b[1;32min\u001b[0m \u001b[0mS\u001b[0m\u001b[1;33m)\u001b[0m \u001b[1;32mfor\u001b[0m \u001b[0mk\u001b[0m \u001b[1;32min\u001b[0m \u001b[0mW\u001b[0m\u001b[1;33m)\u001b[0m \u001b[1;32mfor\u001b[0m \u001b[0ml\u001b[0m \u001b[1;32min\u001b[0m \u001b[0mS\u001b[0m\u001b[1;33m)\u001b[0m\u001b[1;33m\u001b[0m\u001b[1;33m\u001b[0m\u001b[0m\n\u001b[0m\u001b[0;32m     10\u001b[0m \u001b[0mprint\u001b[0m\u001b[1;33m(\u001b[0m\u001b[1;34m\"Team %i total distance: %i ft.\"\u001b[0m \u001b[1;33m%\u001b[0m \u001b[0mteam_distance\u001b[0m\u001b[1;33m)\u001b[0m\u001b[1;33m\u001b[0m\u001b[1;33m\u001b[0m\u001b[0m\n\u001b[0;32m     11\u001b[0m \u001b[1;33m\u001b[0m\u001b[0m\n",
      "\u001b[1;31mTypeError\u001b[0m: int() argument must be a string, a bytes-like object or a number, not 'generator'"
     ]
    }
   ],
   "source": [
    "for (i,j) in A:\n",
    "    print(\"%s = %f\" % (model.x[i,j], value(model.x[i,j])))\n",
    "\n",
    "print(\"Moves_Distance = %f\" % value(model.Moves_Distance))\n",
    "total_moves = int(sum(m[i,j]* value(model.x[i,j] )for (i,j) in A))\n",
    "total_distance = int(value(model.Moves_Distance) - total_moves)\n",
    "print(\"total_moves = %i\" % total_moves)\n",
    "print(\"total_distance = %i ft.\" % total_distance)\n",
    "team_distance = int((sum(d[j,l] * value(model.y[i,j,k,l] for i in W) for j in S) for k in W) for l in S)\n",
    "print(\"Team %i total distance: %i ft.\" % team_distance)\n",
    "\n"
   ]
  },
  {
   "cell_type": "code",
   "execution_count": null,
   "metadata": {},
   "outputs": [],
   "source": []
  }
 ],
 "metadata": {
  "kernelspec": {
   "display_name": "Python 3",
   "language": "python",
   "name": "python3"
  },
  "language_info": {
   "codemirror_mode": {
    "name": "ipython",
    "version": 3
   },
   "file_extension": ".py",
   "mimetype": "text/x-python",
   "name": "python",
   "nbconvert_exporter": "python",
   "pygments_lexer": "ipython3",
   "version": "3.7.7"
  }
 },
 "nbformat": 4,
 "nbformat_minor": 4
}
